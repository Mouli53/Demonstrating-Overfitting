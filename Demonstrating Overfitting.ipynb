{
 "cells": [
  {
   "cell_type": "markdown",
   "metadata": {
    "id": "M3ktazHCCskX"
   },
   "source": [
    "# Demonstrating Overfitting"
   ]
  },
  {
   "cell_type": "markdown",
   "metadata": {
    "id": "_J4BfW42Cskb"
   },
   "source": [
    "## Set up dataset\n",
    "\n",
    "I have chosen the safest dataset MNIST for demonstration.\n",
    "\n",
    "In setting up the data, I should set up a training set and a test set. The test set should be large enough to give a reasonably accurate assessment of the error-rate (or loss) of your models: preferably at least 10,000 examples.\n",
    "\n",
    "For the learning curve experiment (below), I will need to construct training sets of different sizes, with the largest at least 10 times the smallest. For the MNIST data, for example, I(one can) have smallest training set might be 500, with sizes 500, 1000, 2000, 4000, 8000, 16000, 32000, and perhaps 60000 if you have time."
   ]
  },
  {
   "cell_type": "markdown",
   "metadata": {
    "id": "tqsnkVoaCskc"
   },
   "source": [
    "## 1.Set up model \n",
    "\n",
    "I have Set up a Pytorch model (you may find it helpful to keep it simple and fast to train). I have Trained on an intermediate-sized dataset (if you are using MNIST, say 2000 or 4000). \n",
    "\n",
    "\n",
    "I have also Plot the loss and error rate as a function of training epochs. \n",
    "\n",
    "\n",
    "Ensure that your model is complex enough to *overfit* the training data: that is the loss/error-rate on the training set should be below your target loss/error-rate, and the loss/error-rate on the validation set should be higher than this (preferably higher than your target error-rate). "
   ]
  },
  {
   "cell_type": "code",
   "execution_count": 1,
   "metadata": {
    "id": "hAAljNdvCskg"
   },
   "outputs": [],
   "source": [
    "import torch\n",
    "from torch import nn\n",
    "import torch.nn.functional as F\n",
    "from torchvision import datasets, transforms\n",
    "from torch.utils.data import DataLoader, random_split\n",
    "import numpy as np\n",
    "import matplotlib.pyplot as plt\n",
    "import warnings\n",
    "warnings.filterwarnings('ignore')"
   ]
  },
  {
   "cell_type": "markdown",
   "metadata": {},
   "source": [
    "# Hyper parameters used in this code\n",
    "\n",
    "### Batch size= 32\n",
    "\n",
    "### L2 Regularization [0.0001,0.001, 0.01,0.1]\n",
    "\n",
    "###  Drop Regularization [0.25,0.50,0.75]\n",
    "\n",
    "### epochs = 2 and 3, #reason for using lower epochs: lack of computational source\n",
    "\n",
    "### Learning rate used: 1e-5"
   ]
  },
  {
   "cell_type": "code",
   "execution_count": 8,
   "metadata": {
    "colab": {
     "base_uri": "https://localhost:8080/",
     "height": 757,
     "referenced_widgets": [
      "6f53e4bb4ca64d34bacf3d3aed6beea1",
      "1e14b063615c44a0beaea7adfa85a9cf",
      "809f141b4cb64c3fa2b131b63fa0016b",
      "9dc1783d084d43728ca2daccd068c493",
      "58fa1e39bdb84739ba3a86f1b95487b3",
      "889f53ee15dc4460b6da7ede93644b31",
      "61c14827f5484abfa5841941886e5ad9",
      "63a99a807e13441b9c50135ce0ef2277",
      "b2b8821d86d74983adbd573fe94f0e3b",
      "cec6763965cb41bfacae286e1b890d0d",
      "88fe103d10c5484c9a61091ffc1d5edb",
      "fb824854b03d48ddac15b8e4bba9c75d",
      "9ad408c250fc4d4c88760c0fe7f03588",
      "19936c618da3489d9e70e2a5387af53a",
      "2a63b8dab052441bb1397d8fd2bdba07",
      "2f8c5fd9b85c475e9bdcf1ce41419c7b",
      "3eead54c513e46bdabff03b09d2907c5",
      "7835a20ebee64d0ea52f752e77f4b350",
      "f638f059aa5046acb8afce4400188bc3",
      "38a621a2e06046b6b8d0acc1567d5f7a",
      "09f799ef60fc4013ba0310185abbd29e",
      "134592d47ab147618b90c95502fbac88",
      "7d3674421a0c429abbab955423e17d29",
      "3b44d49a51c84242910882e2c9df655f",
      "6dd197a6d9c549caa17e3dde2a866055",
      "41fad45023614f89a12c83e216de51fb",
      "88186e36a9d9466b8c8b5dd7ccb57612",
      "d2884d85c10f4e7899ca21cc085102b6",
      "a535d365eb2f453fa6adf2c8a2eadd09",
      "75b552078080435a8e77858e66ff9da6",
      "1821b70fb26440f394ad6c0a95b7b866",
      "0083165da3db409991189368122fa4a8"
     ]
    },
    "id": "NwpLn30nWwJA",
    "outputId": "f7f031b8-f720-42bb-96ef-5dbf138966cb"
   },
   "outputs": [],
   "source": [
    "trans = transforms.Compose([\n",
    "                                 transforms.ToTensor()\n",
    "])  \n",
    "train = datasets.MNIST('', train = True, transform = trans, download = True)"
   ]
  },
  {
   "cell_type": "code",
   "execution_count": 9,
   "metadata": {
    "id": "piWeQQ0XkI8D"
   },
   "outputs": [],
   "source": [
    "train, valid = random_split(train,[50000,10000])"
   ]
  },
  {
   "cell_type": "markdown",
   "metadata": {},
   "source": [
    "###   batch size = 32 "
   ]
  },
  {
   "cell_type": "code",
   "execution_count": 10,
   "metadata": {
    "id": "EZ3sodaKkNeo"
   },
   "outputs": [],
   "source": [
    "trainloader = DataLoader(train, batch_size=32)\n",
    "validloader = DataLoader(valid, batch_size=32)"
   ]
  },
  {
   "cell_type": "markdown",
   "metadata": {},
   "source": [
    "### Building a MLP and CNN model. First I tried to build MLP model "
   ]
  },
  {
   "cell_type": "code",
   "execution_count": 12,
   "metadata": {
    "id": "CV8GdO2UiK8o"
   },
   "outputs": [],
   "source": [
    "# Building Our Mode\n",
    "class MLP(nn.Module):\n",
    "    # Declaring the Architecture\n",
    "    def __init__(self):\n",
    "        super(MLP,self).__init__()\n",
    "        self.fc1 = nn.Linear(28*28, 128)\n",
    "        self.fc2 = nn.Linear(128, 10)\n",
    "  \n",
    "    # Forward Pass\n",
    "    def forward(self, x):\n",
    "        x = x.view(x.shape[0],-1)    # Flatten the images\n",
    "        x = F.relu(self.fc1(x))\n",
    "        x = F.relu(self.fc2(x))\n",
    "        return x"
   ]
  },
  {
   "cell_type": "code",
   "execution_count": 13,
   "metadata": {
    "id": "ALVQLo7PiNuc"
   },
   "outputs": [],
   "source": [
    "model = MLP()\n",
    "criterion = nn.CrossEntropyLoss()"
   ]
  },
  {
   "cell_type": "code",
   "execution_count": 15,
   "metadata": {
    "colab": {
     "base_uri": "https://localhost:8080/"
    },
    "id": "ADcTM0hhiGty",
    "outputId": "577eeb40-4458-47a7-8be8-461e6349e931"
   },
   "outputs": [
    {
     "name": "stdout",
     "output_type": "stream",
     "text": [
      "Epoch: 1 \t\t Training Loss:  0.018792206708696968 \t\t Validation Loss: 0.07549057981838433\n",
      "Epoch: 2 \t\t Training Loss:  0.0158705830345227 \t\t Validation Loss: 0.054697182993538464\n",
      "Epoch: 3 \t\t Training Loss:  0.014437455209645414 \t\t Validation Loss: 0.0459748898832181\n"
     ]
    }
   ],
   "source": [
    "# Training with Validation\n",
    "epochs = 3\n",
    "min_valid_loss = np.inf\n",
    "optimizer = torch.optim.Adam(model.parameters(), lr=1e-5)\n",
    "for e in range(epochs):\n",
    "    train_loss = 0.0\n",
    "    for data, labels in trainloader:\n",
    "        # Clear the gradients\n",
    "        optimizer.zero_grad()\n",
    "        # Forward Pass\n",
    "        target = model(data)\n",
    "        # Find the Loss\n",
    "        loss = criterion(target,labels)\n",
    "        # Calculate gradients \n",
    "        loss.backward()\n",
    "        # Update Weights\n",
    "        optimizer.step()\n",
    "        # Calculate Loss\n",
    "        train_loss = loss.item() * data.size(0)\n",
    "      \n",
    "    valid_loss = 0.0\n",
    "    model.eval()     # Optional when not using Model Specific layer\n",
    "    for data, labels in validloader:\n",
    "        # Forward Pass\n",
    "        target = model(data)\n",
    "        # Find the Loss\n",
    "        loss = criterion(target,labels)\n",
    "        # Calculate Loss\n",
    "        valid_loss = loss.item() * data.size(0)\n",
    "  \n",
    "    print('Epoch:',e+1,'\\t\\t Training Loss: ',train_loss / len(trainloader),'\\t\\t Validation Loss:',valid_loss / len(validloader))"
   ]
  },
  {
   "cell_type": "markdown",
   "metadata": {},
   "source": [
    "### We could clearly observe that there is no a huge decrease from epoch1 to epoch2 in validation loss"
   ]
  },
  {
   "cell_type": "markdown",
   "metadata": {
    "id": "Z1FTX5KBCskh"
   },
   "source": [
    "### 2.  Regularisation experiment:  ***12 marks***\n",
    "\n",
    "Now you can select a type of regularisation (which may be L2, or dropout) and train your initial model with different amounts of regularisation. \n",
    "\n",
    "For L2 regularisation, compare 0 regularisation with very small amounts of regularisation -- try 0.0001, 0.001, 0.01, and see for what level of L2 regularisation there starts to be an effect. \n",
    "\n",
    "A small amount of regularisation may improve the validation set performance of your overfitted model; too much regularisation may make performance on the validation set worse. \n",
    "\n",
    "Train your model multiple times, applying different amounts of regularisation, and plot a graph showing the effect of different amounts of regularisation. \n",
    "\n",
    "Plot the amount of regularisation along the x axis, and the validation set performance (loss/error-rate) on the y axis.  How does regularisation affect the performance of your initial network, and what is the optimal amount? "
   ]
  },
  {
   "cell_type": "code",
   "execution_count": 17,
   "metadata": {
    "colab": {
     "base_uri": "https://localhost:8080/"
    },
    "id": "He2Hs7UhqCTi",
    "outputId": "7ffec573-13aa-46a0-eff1-406ff1afeac7"
   },
   "outputs": [
    {
     "name": "stdout",
     "output_type": "stream",
     "text": [
      "\n",
      " L2 Regularization value = 0\n",
      "Epoch: 1 \t\t Training Loss:  0.018835414317808927 \t\t Validation Loss: 0.07456445541625586\n",
      "Epoch: 2 \t\t Training Loss:  0.014956252817457789 \t\t Validation Loss: 0.05314911668673872\n",
      "Epoch: 3 \t\t Training Loss:  0.012784723585718196 \t\t Validation Loss: 0.04306342883612782\n",
      "\n",
      " L2 Regularization value = 0.0001\n",
      "Epoch: 1 \t\t Training Loss:  0.018620496519238843 \t\t Validation Loss: 0.07241680523077139\n",
      "Epoch: 2 \t\t Training Loss:  0.013993579915755084 \t\t Validation Loss: 0.04948597441846951\n",
      "Epoch: 3 \t\t Training Loss:  0.01035739364184711 \t\t Validation Loss: 0.040139393303721856\n",
      "\n",
      " L2 Regularization value = 0.001\n",
      "Epoch: 1 \t\t Training Loss:  0.016259085422742847 \t\t Validation Loss: 0.06853264513107153\n",
      "Epoch: 2 \t\t Training Loss:  0.010411343662996592 \t\t Validation Loss: 0.03912956493731124\n",
      "Epoch: 3 \t\t Training Loss:  0.0072873006321570845 \t\t Validation Loss: 0.025536025294099752\n",
      "\n",
      " L2 Regularization value = 0.01\n",
      "Epoch: 1 \t\t Training Loss:  0.017196951809405364 \t\t Validation Loss: 0.07738121325215593\n",
      "Epoch: 2 \t\t Training Loss:  0.011642648864082243 \t\t Validation Loss: 0.04212326744493966\n",
      "Epoch: 3 \t\t Training Loss:  0.008239647248427379 \t\t Validation Loss: 0.027208514106921114\n",
      "\n",
      " L2 Regularization value = 0.1\n",
      "Epoch: 1 \t\t Training Loss:  0.021332909796989964 \t\t Validation Loss: 0.09452584604866589\n",
      "Epoch: 2 \t\t Training Loss:  0.01871415185226665 \t\t Validation Loss: 0.07359201839556709\n",
      "Epoch: 3 \t\t Training Loss:  0.01720408087576038 \t\t Validation Loss: 0.0630949830856567\n"
     ]
    }
   ],
   "source": [
    "# your code here \n",
    "epochs=3\n",
    "val_loss_reg, reg = [],[0, 0.0001, 0.001, 0.01, 0.1]\n",
    "for r in reg:\n",
    "    print('\\n L2 Regularization value =',r)\n",
    "    model = MLP()\n",
    "    criterion = nn.CrossEntropyLoss()\n",
    "    optimizer = torch.optim.Adam(model.parameters(), lr=1e-5, weight_decay=r)\n",
    "    for e in range(epochs):\n",
    "        train_loss = 0.0\n",
    "        for data, labels in trainloader:\n",
    "            # Clear the gradients\n",
    "            optimizer.zero_grad()\n",
    "            # Forward Pass\n",
    "            target = model(data)\n",
    "            # Find the Loss\n",
    "            loss = criterion(target,labels)\n",
    "            # Calculate gradients \n",
    "            loss.backward()\n",
    "            # Update Weights\n",
    "            optimizer.step()\n",
    "            # Calculate Loss\n",
    "            train_loss = loss.item() * data.size(0)\n",
    "          \n",
    "        valid_loss = 0.0\n",
    "        model.eval()     # Optional when not using Model Specific layer\n",
    "        for data, labels in validloader:\n",
    "            # Forward Pass\n",
    "            target = model(data)\n",
    "            # Find the Loss\n",
    "            loss = criterion(target,labels)\n",
    "            # Calculate Loss\n",
    "            valid_loss = loss.item() * data.size(0)\n",
    "      \n",
    "        print('Epoch:',e+1,'\\t\\t Training Loss: ',train_loss / len(trainloader),'\\t\\t Validation Loss:',valid_loss / len(validloader))\n",
    "    val_loss_reg.append(valid_loss / len(validloader))"
   ]
  },
  {
   "cell_type": "code",
   "execution_count": 18,
   "metadata": {
    "colab": {
     "base_uri": "https://localhost:8080/",
     "height": 295
    },
    "id": "Svrpb9PppFiG",
    "outputId": "94bd120f-d33e-42b3-9b48-ed47ef0500c9"
   },
   "outputs": [
    {
     "data": {
      "image/png": "[encoded data removed]",
      "text/plain": [
       "<Figure size 432x288 with 1 Axes>"
      ]
     },
     "metadata": {
      "needs_background": "light"
     },
     "output_type": "display_data"
    }
   ],
   "source": [
    "plt.plot(reg,val_loss_reg)\n",
    "plt.title('Validation loss vs Regularization value')\n",
    "plt.xlabel('Regularization value')\n",
    "plt.ylabel('Validation loss')\n",
    "plt.show()"
   ]
  },
  {
   "cell_type": "markdown",
   "metadata": {
    "id": "2o1fWYrNCskt"
   },
   "source": [
    "### 3.  Learning curve experiment\n",
    "\n",
    "Now I Have trained the model (with the amount of regularisation you selected) on different amounts of training data. \n",
    "\n",
    "Plotted the performance (loss/error-rate) of the model on the validation set against the size of the training set. \n",
    "This is typically best done on a log-log plot. \n",
    "\n",
    "Describe the approximate relationship between the training set size and loss / error-rate.  Does the network performance appear to improve as some power of the amount of data in the training set?  If so, by what power ? \n",
    "\n",
    "For example, a very good rate of improvement is for error-rate to be proportional to $\\dfrac{1}{\\sqrt{n}}$ where $n$ is the training set size.  For your model, the rate of improvement of validation error with training set size may not be as fast as this (or it may, who knows?)  The aim of this exercise is to find out what it actually is. "
   ]
  },
  {
   "cell_type": "code",
   "execution_count": 20,
   "metadata": {
    "colab": {
     "base_uri": "https://localhost:8080/"
    },
    "id": "Kpzzrb8PCskw",
    "outputId": "9b80d29f-83b0-4048-b9ab-122277d59895"
   },
   "outputs": [
    {
     "name": "stdout",
     "output_type": "stream",
     "text": [
      "\n",
      "  Dataset set size = 100\n",
      "Epoch: 1 \t\t Training Loss:  0.046924901023859864 \t\t Validation Loss: 0.11743532125942242\n",
      "Epoch: 2 \t\t Training Loss:  0.04654465160992233 \t\t Validation Loss: 0.11565369919846995\n",
      "Epoch: 3 \t\t Training Loss:  0.046035210139005515 \t\t Validation Loss: 0.1139528926569052\n",
      "\n",
      "  Dataset set size = 200\n",
      "Epoch: 1 \t\t Training Loss:  0.04629782629714741 \t\t Validation Loss: 0.11252244211995183\n",
      "Epoch: 2 \t\t Training Loss:  0.045266252104014214 \t\t Validation Loss: 0.10668991625118561\n",
      "Epoch: 3 \t\t Training Loss:  0.04406195974319468 \t\t Validation Loss: 0.10012322569045777\n",
      "\n",
      "  Dataset set size = 400\n",
      "Epoch: 1 \t\t Training Loss:  0.0443237802575051 \t\t Validation Loss: 0.10532203649941344\n",
      "Epoch: 2 \t\t Training Loss:  0.04055841046880623 \t\t Validation Loss: 0.09254891880023212\n",
      "Epoch: 3 \t\t Training Loss:  0.03637441731536533 \t\t Validation Loss: 0.07971737407647764\n",
      "\n",
      "  Dataset set size = 600\n",
      "Epoch: 1 \t\t Training Loss:  0.04258524479197907 \t\t Validation Loss: 0.10001821182787228\n",
      "Epoch: 2 \t\t Training Loss:  0.03693632978853017 \t\t Validation Loss: 0.07894080896347094\n",
      "Epoch: 3 \t\t Training Loss:  0.0322326787068763 \t\t Validation Loss: 0.06297011573474628\n",
      "\n",
      "  Dataset set size = 800\n",
      "Epoch: 1 \t\t Training Loss:  0.0431244374846924 \t\t Validation Loss: 0.09668663439278405\n",
      "Epoch: 2 \t\t Training Loss:  0.03944374030778901 \t\t Validation Loss: 0.0782164735154222\n",
      "Epoch: 3 \t\t Training Loss:  0.03692018017125145 \t\t Validation Loss: 0.06680622649268982\n",
      "\n",
      "  Dataset set size = 1000\n",
      "Epoch: 1 \t\t Training Loss:  0.040059087830175595 \t\t Validation Loss: 0.09256298930500262\n",
      "Epoch: 2 \t\t Training Loss:  0.032395090114132226 \t\t Validation Loss: 0.07820340848197571\n",
      "Epoch: 3 \t\t Training Loss:  0.026881300327645154 \t\t Validation Loss: 0.0694748753556809\n"
     ]
    }
   ],
   "source": [
    "# your code here\n",
    "\n",
    "val_loss_N_MLP, N = [],[100, 200, 400, 600, 800, 1000]\n",
    "epochs = 3\n",
    "for n in N:\n",
    "    print('\\n  Dataset set size =',n)\n",
    "    model = MLP()\n",
    "    # Declaring Criterion and Optimizer\n",
    "    criterion = nn.CrossEntropyLoss()\n",
    "    optimizer = torch.optim.Adam(model.parameters(), lr=1e-5, weight_decay=1e-4)\n",
    "    for e in range(epochs):\n",
    "        train_loss = 0.0\n",
    "        i = 0\n",
    "        for data, labels in trainloader:\n",
    "            if i>=n:\n",
    "                break\n",
    "            i += 1\n",
    "              \n",
    "            # Clear the gradients\n",
    "            optimizer.zero_grad()\n",
    "            # Forward Pass\n",
    "            target = model(data)\n",
    "            # Find the Loss\n",
    "            loss = criterion(target,labels)\n",
    "            # Calculate gradients \n",
    "            loss.backward()\n",
    "            # Update Weights\n",
    "            optimizer.step()\n",
    "            # Calculate Loss\n",
    "            train_loss = loss.item() * data.size(0)\n",
    "          \n",
    "        valid_loss = 0.0\n",
    "        model.eval()     # Optional when not using Model Specific layer\n",
    "        for data, labels in validloader:\n",
    "              \n",
    "            # Forward Pass\n",
    "            target = model(data)\n",
    "            # Find the Loss\n",
    "            loss = criterion(target,labels)\n",
    "            # Calculate Loss\n",
    "            valid_loss = loss.item() * data.size(0)\n",
    "      \n",
    "        print('Epoch:',e+1,'\\t\\t Training Loss: ',train_loss / len(trainloader),'\\t\\t Validation Loss:',valid_loss / len(validloader))\n",
    "    val_loss_N_MLP.append(valid_loss / len(validloader))"
   ]
  },
  {
   "cell_type": "code",
   "execution_count": 21,
   "metadata": {
    "colab": {
     "base_uri": "https://localhost:8080/",
     "height": 295
    },
    "id": "rl3GldwqvJox",
    "outputId": "37fc1695-2a1b-4110-f35c-789091603885"
   },
   "outputs": [
    {
     "data": {
      "image/png": "[encoded data removed]",
      "text/plain": [
       "<Figure size 432x288 with 1 Axes>"
      ]
     },
     "metadata": {
      "needs_background": "light"
     },
     "output_type": "display_data"
    }
   ],
   "source": [
    "plt.plot(N,val_loss_N_MLP,label='Actual')\n",
    "plt.plot(N,1/np.array(N)**(0.5),label='1/(n^0.5)')\n",
    "plt.title('Validation loss vs Dataset size')\n",
    "plt.xlabel('Dataset size')\n",
    "plt.ylabel('Validation loss')\n",
    "plt.legend()\n",
    "plt.show()"
   ]
  },
  {
   "cell_type": "markdown",
   "metadata": {
    "id": "sBipcDVtKjod"
   },
   "source": [
    "### The graph shows that the validation loss or error rate is almost proportional  to $\\dfrac{1}{\\sqrt{n}}$\n",
    "\n",
    "### We could also observe that there is a lot of difference between them"
   ]
  },
  {
   "cell_type": "markdown",
   "metadata": {
    "id": "l-SfYa69Cskx"
   },
   "source": [
    "### 4. Second model: CNN\n",
    "\n",
    "Devise what you believe to be a better neural network architecture for the problem (e.g. for MNIST you might use a fully-connected network for your initial model, and then try a convolutional net for your second model).\n",
    "\n",
    "Repeat sections 2 (regularisation experiment), and determine whether it has better validation set performance than the first model, for an intermediate size of training set (e.g. 2000 or 4000 for the MNIST data). \n",
    "\n",
    "Repeat section 3. Does your model have a different learning curve from the first? Plot the learning curves for the first and second model on the same graph, to compare them. Comment: is there a more rapid reduction of error-rate with training set size for your second model?  "
   ]
  },
  {
   "cell_type": "code",
   "execution_count": 22,
   "metadata": {
    "id": "GOu8zA0ICsky"
   },
   "outputs": [],
   "source": [
    "# your code here\n",
    "\n",
    "class CNN(nn.Module):   \n",
    "  def __init__(self):\n",
    "      super(CNN, self).__init__()\n",
    "\n",
    "      self.cnn_layers = nn.Sequential(\n",
    "          # Defining a 2D convolution layer\n",
    "          nn.Conv2d(1, 4, kernel_size=3, stride=1, padding=1),\n",
    "          nn.BatchNorm2d(4),\n",
    "          nn.ReLU(inplace=True),\n",
    "          nn.MaxPool2d(kernel_size=2, stride=2),\n",
    "          # Defining another 2D convolution layer\n",
    "          nn.Conv2d(4, 4, kernel_size=3, stride=1, padding=1),\n",
    "          nn.BatchNorm2d(4),\n",
    "          nn.ReLU(inplace=True),\n",
    "          nn.MaxPool2d(kernel_size=2, stride=2),\n",
    "      )\n",
    "\n",
    "      self.linear_layers = nn.Sequential(\n",
    "          nn.Linear(4 * 7 * 7, 10)\n",
    "      )\n",
    "\n",
    "  # Defining the forward pass    \n",
    "  def forward(self, x):\n",
    "      x = self.cnn_layers(x)\n",
    "      x = x.view(x.size(0), -1)\n",
    "      x = self.linear_layers(x)\n",
    "      return x"
   ]
  },
  {
   "cell_type": "code",
   "execution_count": 23,
   "metadata": {
    "id": "lXPd-O50Mlll"
   },
   "outputs": [],
   "source": [
    "model = CNN()\n",
    "criterion = nn.CrossEntropyLoss()"
   ]
  },
  {
   "cell_type": "code",
   "execution_count": 25,
   "metadata": {
    "colab": {
     "base_uri": "https://localhost:8080/"
    },
    "id": "uLkbMoGmMpNQ",
    "outputId": "922eb36a-c60d-4d15-bf14-4f40b0e1f8c0"
   },
   "outputs": [
    {
     "name": "stdout",
     "output_type": "stream",
     "text": [
      "Epoch: 1 \t\t Training Loss:  0.0005977839822580017 \t\t Validation Loss: 0.003072192874579384\n",
      "Epoch: 2 \t\t Training Loss:  0.00018678093597207098 \t\t Validation Loss: 0.000659492259589247\n"
     ]
    }
   ],
   "source": [
    "# Training with Validation\n",
    "epochs = 2\n",
    "min_valid_loss = np.inf\n",
    "optimizer = torch.optim.Adam(model.parameters(), lr=1e-5)\n",
    "for e in range(epochs):\n",
    "    train_loss = 0.0\n",
    "    for data, labels in trainloader:\n",
    "        # Clear the gradients\n",
    "        optimizer.zero_grad()\n",
    "        # Forward Pass\n",
    "        target = model(data)\n",
    "        # Find the Loss\n",
    "        loss = criterion(target,labels)\n",
    "        # Calculate gradients \n",
    "        loss.backward()\n",
    "        # Update Weights\n",
    "        optimizer.step()\n",
    "        # Calculate Loss\n",
    "        train_loss = loss.item() * data.size(0)\n",
    "      \n",
    "    valid_loss = 0.0\n",
    "    model.eval()     # Optional when not using Model Specific layer\n",
    "    for data, labels in validloader:\n",
    "        # Forward Pass\n",
    "        target = model(data)\n",
    "        # Find the Loss\n",
    "        loss = criterion(target,labels)\n",
    "        # Calculate Loss\n",
    "        valid_loss = loss.item() * data.size(0)\n",
    "  \n",
    "    print('Epoch:',e+1,'\\t\\t Training Loss: ',train_loss / len(trainloader),'\\t\\t Validation Loss:',valid_loss / len(validloader))"
   ]
  },
  {
   "cell_type": "code",
   "execution_count": 32,
   "metadata": {
    "colab": {
     "base_uri": "https://localhost:8080/"
    },
    "id": "h0Y50_lXQm8O",
    "outputId": "3cc3163c-9a94-40dd-d6ee-1b2311dcb54a"
   },
   "outputs": [
    {
     "name": "stdout",
     "output_type": "stream",
     "text": [
      "\n",
      "L2 Regularization value = 0\n",
      "Epoch: 1 \t\t Training Loss:  0.0004739905501967886 \t\t Validation Loss: 0.002419120206619604\n",
      "Epoch: 2 \t\t Training Loss:  9.333355184251196e-05 \t\t Validation Loss: 0.00030134351680073115\n",
      "\n",
      "L2 Regularization value = 0.0001\n",
      "Epoch: 1 \t\t Training Loss:  0.0006236318434497445 \t\t Validation Loss: 0.002224940080612231\n",
      "Epoch: 2 \t\t Training Loss:  0.00027114490401035536 \t\t Validation Loss: 0.000674170474655712\n",
      "\n",
      "L2 Regularization value = 0.001\n",
      "Epoch: 1 \t\t Training Loss:  0.0008142044814214139 \t\t Validation Loss: 0.002861968244607456\n",
      "Epoch: 2 \t\t Training Loss:  0.00030264363255320796 \t\t Validation Loss: 0.0004867935618653465\n",
      "\n",
      "L2 Regularization value = 0.01\n",
      "Epoch: 1 \t\t Training Loss:  0.0007593315225797667 \t\t Validation Loss: 0.004922445589741959\n",
      "Epoch: 2 \t\t Training Loss:  0.00025067921258361387 \t\t Validation Loss: 0.0018738205440509052\n",
      "\n",
      "L2 Regularization value = 0.1\n",
      "Epoch: 1 \t\t Training Loss:  0.0019683882126957657 \t\t Validation Loss: 0.009615262857260415\n",
      "Epoch: 2 \t\t Training Loss:  0.00026009626977350646 \t\t Validation Loss: 0.0011221300870084914\n"
     ]
    }
   ],
   "source": [
    "# your code here \n",
    "epochs=2\n",
    "val_loss_reg, reg =[],[0, 0.0001, 0.001, 0.01, 0.1]\n",
    "for r in reg:\n",
    "    print('\\nL2 Regularization value =',r)\n",
    "    model = CNN()\n",
    "    criterion = nn.CrossEntropyLoss()\n",
    "    optimizer = torch.optim.Adam(model.parameters(), lr=5e-4, weight_decay=r)\n",
    "    for e in range(epochs):\n",
    "        train_loss = 0.0\n",
    "        for data, labels in trainloader:              \n",
    "            # Clear the gradients\n",
    "            optimizer.zero_grad()\n",
    "            # Forward Pass\n",
    "            target = model(data)\n",
    "            # Find the Loss\n",
    "            loss = criterion(target,labels)\n",
    "            # Calculate gradients \n",
    "            loss.backward()\n",
    "            # Update Weights\n",
    "            optimizer.step()\n",
    "            # Calculate Loss\n",
    "            train_loss = loss.item() * data.size(0)\n",
    "          \n",
    "        valid_loss = 0.0\n",
    "        model.eval()     # Optional when not using Model Specific layer\n",
    "        for data, labels in validloader:              \n",
    "            # Forward Pass\n",
    "            target = model(data)\n",
    "            # Find the Loss\n",
    "            loss = criterion(target,labels)\n",
    "            # Calculate Loss\n",
    "            valid_loss = loss.item() * data.size(0)\n",
    "      \n",
    "        print('Epoch:',e+1,'\\t\\t Training Loss: ',train_loss / len(trainloader),'\\t\\t Validation Loss:',valid_loss / len(validloader))\n",
    "    val_loss_reg.append(valid_loss / len(validloader))"
   ]
  },
  {
   "cell_type": "code",
   "execution_count": 29,
   "metadata": {
    "colab": {
     "base_uri": "https://localhost:8080/",
     "height": 295
    },
    "id": "URj5TvZWT_SB",
    "outputId": "1f48c6ab-88f3-4b49-b627-7f3ab479fdeb"
   },
   "outputs": [
    {
     "data": {
      "image/png": "[encoded data removed]",
      "text/plain": [
       "<Figure size 432x288 with 1 Axes>"
      ]
     },
     "metadata": {
      "needs_background": "light"
     },
     "output_type": "display_data"
    }
   ],
   "source": [
    "plt.plot(reg,val_loss_reg)\n",
    "plt.title('Validation loss vs Regularization value')\n",
    "plt.xlabel('Regularization value')\n",
    "plt.ylabel('Validation loss')\n",
    "plt.show()"
   ]
  },
  {
   "cell_type": "code",
   "execution_count": 35,
   "metadata": {
    "colab": {
     "base_uri": "https://localhost:8080/"
    },
    "id": "3UBJyvuhTC3R",
    "outputId": "d58639db-0138-44ef-df49-2ef0c296b1aa"
   },
   "outputs": [
    {
     "name": "stdout",
     "output_type": "stream",
     "text": [
      "\n",
      "Size of dataset = 100\n",
      "Epoch: 1 \t\t Training Loss:  0.02926976209409864 \t\t Validation Loss: 0.06410961333936015\n",
      "Epoch: 2 \t\t Training Loss:  0.011787694002372366 \t\t Validation Loss: 0.023311508349336374\n",
      "Epoch: 3 \t\t Training Loss:  0.0091347099494568 \t\t Validation Loss: 0.01698770462133633\n",
      "Epoch: 4 \t\t Training Loss:  0.007902167351369437 \t\t Validation Loss: 0.012880331411148412\n",
      "Epoch: 5 \t\t Training Loss:  0.007138523167703522 \t\t Validation Loss: 0.010060576966014532\n",
      "\n",
      "Size of dataset = 200\n",
      "Epoch: 1 \t\t Training Loss:  0.022462853390821186 \t\t Validation Loss: 0.028864714284293568\n",
      "Epoch: 2 \t\t Training Loss:  0.012875835787235584 \t\t Validation Loss: 0.014270078640776321\n",
      "Epoch: 3 \t\t Training Loss:  0.009188755765147341 \t\t Validation Loss: 0.010792053545625827\n",
      "Epoch: 4 \t\t Training Loss:  0.006792829346366975 \t\t Validation Loss: 0.008325786255419064\n",
      "Epoch: 5 \t\t Training Loss:  0.005152449726829602 \t\t Validation Loss: 0.006615518381039556\n",
      "\n",
      "Size of dataset = 400\n",
      "Epoch: 1 \t\t Training Loss:  0.007717923941096661 \t\t Validation Loss: 0.018801003599319216\n",
      "Epoch: 2 \t\t Training Loss:  0.0034069230902751746 \t\t Validation Loss: 0.0054099228435431045\n",
      "Epoch: 3 \t\t Training Loss:  0.002480996852491578 \t\t Validation Loss: 0.0024715576308984724\n",
      "Epoch: 4 \t\t Training Loss:  0.0019470431144162773 \t\t Validation Loss: 0.0013798043941156551\n",
      "Epoch: 5 \t\t Training Loss:  0.0017820603559204804 \t\t Validation Loss: 0.0007809399130245368\n",
      "\n",
      "Size of dataset = 600\n",
      "Epoch: 1 \t\t Training Loss:  0.00932470469313101 \t\t Validation Loss: 0.0065683427329261464\n",
      "Epoch: 2 \t\t Training Loss:  0.005561720005457628 \t\t Validation Loss: 0.0011322524029606829\n",
      "Epoch: 3 \t\t Training Loss:  0.0044143277715584135 \t\t Validation Loss: 0.00048280024109557035\n",
      "Epoch: 4 \t\t Training Loss:  0.003591359309942693 \t\t Validation Loss: 0.000287507907651103\n",
      "Epoch: 5 \t\t Training Loss:  0.0029847315314177588 \t\t Validation Loss: 0.00019703155603652565\n",
      "\n",
      "Size of dataset = 800\n",
      "Epoch: 1 \t\t Training Loss:  0.005451024837091194 \t\t Validation Loss: 0.006526937880835975\n",
      "Epoch: 2 \t\t Training Loss:  0.0012149058010665103 \t\t Validation Loss: 0.0006624245986390038\n",
      "Epoch: 3 \t\t Training Loss:  0.0005495846843536435 \t\t Validation Loss: 0.0005832640602946662\n",
      "Epoch: 4 \t\t Training Loss:  0.00035769612988980243 \t\t Validation Loss: 0.0006655377987474679\n",
      "Epoch: 5 \t\t Training Loss:  0.0002556397834040763 \t\t Validation Loss: 0.0007788415153186542\n",
      "\n",
      "Size of dataset = 1000\n",
      "Epoch: 1 \t\t Training Loss:  0.003170648600455667 \t\t Validation Loss: 0.00586700439453125\n",
      "Epoch: 2 \t\t Training Loss:  0.0013300458818998233 \t\t Validation Loss: 0.001015018731260452\n",
      "Epoch: 3 \t\t Training Loss:  0.0010639197233008484 \t\t Validation Loss: 0.0008041810113401077\n",
      "Epoch: 4 \t\t Training Loss:  0.0010883066033371275 \t\t Validation Loss: 0.0007609160373005243\n",
      "Epoch: 5 \t\t Training Loss:  0.0011849308044423832 \t\t Validation Loss: 0.0007913402094246861\n"
     ]
    }
   ],
   "source": [
    "val_loss_N_CNN, N =  [],[100, 200, 400, 600, 800, 1000]\n",
    "epochs = 5\n",
    "for n in N:\n",
    "    print('\\nSize of dataset =',n)\n",
    "    model = CNN()\n",
    "    if torch.cuda.is_available():\n",
    "        model = model.cuda()\n",
    "    # Declaring Criterion and Optimizer\n",
    "    criterion = nn.CrossEntropyLoss()\n",
    "    optimizer = torch.optim.Adam(model.parameters(), lr=5e-4, weight_decay=1e-4)\n",
    "    for e in range(epochs):\n",
    "        train_loss = 0.0\n",
    "        i = 0\n",
    "        for data, labels in trainloader:\n",
    "            if i>=n:\n",
    "                break\n",
    "            i += 1\n",
    "            # Transfer Data to GPU if available\n",
    "            if torch.cuda.is_available():\n",
    "                data, labels = data.cuda(), labels.cuda()\n",
    "              \n",
    "            # Clear the gradients\n",
    "            optimizer.zero_grad()\n",
    "            # Forward Pass\n",
    "            target = model(data)\n",
    "            # Find the Loss\n",
    "            loss = criterion(target,labels)\n",
    "            # Calculate gradients \n",
    "            loss.backward()\n",
    "            # Update Weights\n",
    "            optimizer.step()\n",
    "            # Calculate Loss\n",
    "            train_loss = loss.item() * data.size(0)\n",
    "          \n",
    "        valid_loss = 0.0\n",
    "        model.eval()     # Optional when not using Model Specific layer\n",
    "        for data, labels in validloader:\n",
    "            # Transfer Data to GPU if available\n",
    "            if torch.cuda.is_available():\n",
    "                data, labels = data.cuda(), labels.cuda()\n",
    "              \n",
    "            # Forward Pass\n",
    "            target = model(data)\n",
    "            # Find the Loss\n",
    "            loss = criterion(target,labels)\n",
    "            # Calculate Loss\n",
    "            valid_loss = loss.item() * data.size(0)\n",
    "      \n",
    "        print('Epoch:',e+1,'\\t\\t Training Loss: ',train_loss / len(trainloader),'\\t\\t Validation Loss:',valid_loss / len(validloader))\n",
    "    val_loss_N_CNN.append(valid_loss / len(validloader))"
   ]
  },
  {
   "cell_type": "markdown",
   "metadata": {},
   "source": [
    "## In each and every size of data set, I have taken, I could clearly observe that there is a dramatic decrease in validation loss from epoch1 to epoch 2\n",
    "\n",
    "### This is a clear indication CNN is a better model as is reduces the validation loss from its 2nd epoch itself"
   ]
  },
  {
   "cell_type": "code",
   "execution_count": 41,
   "metadata": {
    "colab": {
     "base_uri": "https://localhost:8080/",
     "height": 295
    },
    "id": "L4f4YzH8VO0B",
    "outputId": "9a5d898f-016f-431f-8e76-ef1a1db31a14"
   },
   "outputs": [
    {
     "data": {
      "image/png": "[encoded data removed]",
      "text/plain": [
       "<Figure size 432x288 with 1 Axes>"
      ]
     },
     "metadata": {
      "needs_background": "light"
     },
     "output_type": "display_data"
    }
   ],
   "source": [
    "plt.plot(N,val_loss_N_MLP,label='MLP')\n",
    "plt.plot(N,np.array(val_loss_N_CNN)*15,label='CNN(\"Multiplied by 15 times for comparision\")')\n",
    "plt.plot(N,1/np.array(N)**(0.5),label='1/(n**0.5)')\n",
    "plt.title('Validation loss vs Dataset size')\n",
    "plt.xlabel('Dataset size')\n",
    "plt.ylabel('Validation loss')\n",
    "plt.legend()\n",
    "plt.show()"
   ]
  },
  {
   "cell_type": "markdown",
   "metadata": {
    "id": "zHyCPQgqV4cV"
   },
   "source": [
    "### We can clearly observe from the above graph that, the error rate reduction is very high in CNN, when compared to MLP model, the CNN is also better when compared to one by square root of n."
   ]
  },
  {
   "cell_type": "markdown",
   "metadata": {},
   "source": [
    "#### * ALL THE VALUES ARE CALCUALTED USING SAME HYPER PARAMETERS TO AVOID CONFUSION"
   ]
  },
  {
   "cell_type": "markdown",
   "metadata": {},
   "source": [
    "# WITH DROPOUT there is no regularization happening, so the results are being given as images along with this file\n"
   ]
  }
 ],
 "metadata": {
  "accelerator": "GPU",
  "colab": {
   "collapsed_sections": [],
   "name": "CourseWorkProject2021.ipynb",
   "provenance": []
  },
  "kernelspec": {
   "display_name": "Python 3",
   "language": "python",
   "name": "python3"
  },
  "language_info": {
   "codemirror_mode": {
    "name": "ipython",
    "version": 3
   },
   "file_extension": ".py",
   "mimetype": "text/x-python",
   "name": "python",
   "nbconvert_exporter": "python",
   "pygments_lexer": "ipython3",
   "version": "3.8.8"
  },
  "widgets": {
   "application/vnd.jupyter.widget-state+json": {
    "0083165da3db409991189368122fa4a8": {
     "model_module": "@jupyter-widgets/base",
     "model_name": "LayoutModel",
     "state": {
      "_model_module": "@jupyter-widgets/base",
      "_model_module_version": "1.2.0",
      "_model_name": "LayoutModel",
      "_view_count": null,
      "_view_module": "@jupyter-widgets/base",
      "_view_module_version": "1.2.0",
      "_view_name": "LayoutView",
      "align_content": null,
      "align_items": null,
      "align_self": null,
      "border": null,
      "bottom": null,
      "display": null,
      "flex": null,
      "flex_flow": null,
      "grid_area": null,
      "grid_auto_columns": null,
      "grid_auto_flow": null,
      "grid_auto_rows": null,
      "grid_column": null,
      "grid_gap": null,
      "grid_row": null,
      "grid_template_areas": null,
      "grid_template_columns": null,
      "grid_template_rows": null,
      "height": null,
      "justify_content": null,
      "justify_items": null,
      "left": null,
      "margin": null,
      "max_height": null,
      "max_width": null,
      "min_height": null,
      "min_width": null,
      "object_fit": null,
      "object_position": null,
      "order": null,
      "overflow": null,
      "overflow_x": null,
      "overflow_y": null,
      "padding": null,
      "right": null,
      "top": null,
      "visibility": null,
      "width": null
     }
    },
    "09f799ef60fc4013ba0310185abbd29e": {
     "model_module": "@jupyter-widgets/controls",
     "model_name": "ProgressStyleModel",
     "state": {
      "_model_module": "@jupyter-widgets/controls",
      "_model_module_version": "1.5.0",
      "_model_name": "ProgressStyleModel",
      "_view_count": null,
      "_view_module": "@jupyter-widgets/base",
      "_view_module_version": "1.2.0",
      "_view_name": "StyleView",
      "bar_color": null,
      "description_width": "initial"
     }
    },
    "134592d47ab147618b90c95502fbac88": {
     "model_module": "@jupyter-widgets/base",
     "model_name": "LayoutModel",
     "state": {
      "_model_module": "@jupyter-widgets/base",
      "_model_module_version": "1.2.0",
      "_model_name": "LayoutModel",
      "_view_count": null,
      "_view_module": "@jupyter-widgets/base",
      "_view_module_version": "1.2.0",
      "_view_name": "LayoutView",
      "align_content": null,
      "align_items": null,
      "align_self": null,
      "border": null,
      "bottom": null,
      "display": null,
      "flex": null,
      "flex_flow": null,
      "grid_area": null,
      "grid_auto_columns": null,
      "grid_auto_flow": null,
      "grid_auto_rows": null,
      "grid_column": null,
      "grid_gap": null,
      "grid_row": null,
      "grid_template_areas": null,
      "grid_template_columns": null,
      "grid_template_rows": null,
      "height": null,
      "justify_content": null,
      "justify_items": null,
      "left": null,
      "margin": null,
      "max_height": null,
      "max_width": null,
      "min_height": null,
      "min_width": null,
      "object_fit": null,
      "object_position": null,
      "order": null,
      "overflow": null,
      "overflow_x": null,
      "overflow_y": null,
      "padding": null,
      "right": null,
      "top": null,
      "visibility": null,
      "width": null
     }
    },
    "1821b70fb26440f394ad6c0a95b7b866": {
     "model_module": "@jupyter-widgets/controls",
     "model_name": "DescriptionStyleModel",
     "state": {
      "_model_module": "@jupyter-widgets/controls",
      "_model_module_version": "1.5.0",
      "_model_name": "DescriptionStyleModel",
      "_view_count": null,
      "_view_module": "@jupyter-widgets/base",
      "_view_module_version": "1.2.0",
      "_view_name": "StyleView",
      "description_width": ""
     }
    },
    "19936c618da3489d9e70e2a5387af53a": {
     "model_module": "@jupyter-widgets/base",
     "model_name": "LayoutModel",
     "state": {
      "_model_module": "@jupyter-widgets/base",
      "_model_module_version": "1.2.0",
      "_model_name": "LayoutModel",
      "_view_count": null,
      "_view_module": "@jupyter-widgets/base",
      "_view_module_version": "1.2.0",
      "_view_name": "LayoutView",
      "align_content": null,
      "align_items": null,
      "align_self": null,
      "border": null,
      "bottom": null,
      "display": null,
      "flex": null,
      "flex_flow": null,
      "grid_area": null,
      "grid_auto_columns": null,
      "grid_auto_flow": null,
      "grid_auto_rows": null,
      "grid_column": null,
      "grid_gap": null,
      "grid_row": null,
      "grid_template_areas": null,
      "grid_template_columns": null,
      "grid_template_rows": null,
      "height": null,
      "justify_content": null,
      "justify_items": null,
      "left": null,
      "margin": null,
      "max_height": null,
      "max_width": null,
      "min_height": null,
      "min_width": null,
      "object_fit": null,
      "object_position": null,
      "order": null,
      "overflow": null,
      "overflow_x": null,
      "overflow_y": null,
      "padding": null,
      "right": null,
      "top": null,
      "visibility": null,
      "width": null
     }
    },
    "1e14b063615c44a0beaea7adfa85a9cf": {
     "model_module": "@jupyter-widgets/base",
     "model_name": "LayoutModel",
     "state": {
      "_model_module": "@jupyter-widgets/base",
      "_model_module_version": "1.2.0",
      "_model_name": "LayoutModel",
      "_view_count": null,
      "_view_module": "@jupyter-widgets/base",
      "_view_module_version": "1.2.0",
      "_view_name": "LayoutView",
      "align_content": null,
      "align_items": null,
      "align_self": null,
      "border": null,
      "bottom": null,
      "display": null,
      "flex": null,
      "flex_flow": null,
      "grid_area": null,
      "grid_auto_columns": null,
      "grid_auto_flow": null,
      "grid_auto_rows": null,
      "grid_column": null,
      "grid_gap": null,
      "grid_row": null,
      "grid_template_areas": null,
      "grid_template_columns": null,
      "grid_template_rows": null,
      "height": null,
      "justify_content": null,
      "justify_items": null,
      "left": null,
      "margin": null,
      "max_height": null,
      "max_width": null,
      "min_height": null,
      "min_width": null,
      "object_fit": null,
      "object_position": null,
      "order": null,
      "overflow": null,
      "overflow_x": null,
      "overflow_y": null,
      "padding": null,
      "right": null,
      "top": null,
      "visibility": null,
      "width": null
     }
    },
    "2a63b8dab052441bb1397d8fd2bdba07": {
     "model_module": "@jupyter-widgets/controls",
     "model_name": "DescriptionStyleModel",
     "state": {
      "_model_module": "@jupyter-widgets/controls",
      "_model_module_version": "1.5.0",
      "_model_name": "DescriptionStyleModel",
      "_view_count": null,
      "_view_module": "@jupyter-widgets/base",
      "_view_module_version": "1.2.0",
      "_view_name": "StyleView",
      "description_width": ""
     }
    },
    "2f8c5fd9b85c475e9bdcf1ce41419c7b": {
     "model_module": "@jupyter-widgets/base",
     "model_name": "LayoutModel",
     "state": {
      "_model_module": "@jupyter-widgets/base",
      "_model_module_version": "1.2.0",
      "_model_name": "LayoutModel",
      "_view_count": null,
      "_view_module": "@jupyter-widgets/base",
      "_view_module_version": "1.2.0",
      "_view_name": "LayoutView",
      "align_content": null,
      "align_items": null,
      "align_self": null,
      "border": null,
      "bottom": null,
      "display": null,
      "flex": null,
      "flex_flow": null,
      "grid_area": null,
      "grid_auto_columns": null,
      "grid_auto_flow": null,
      "grid_auto_rows": null,
      "grid_column": null,
      "grid_gap": null,
      "grid_row": null,
      "grid_template_areas": null,
      "grid_template_columns": null,
      "grid_template_rows": null,
      "height": null,
      "justify_content": null,
      "justify_items": null,
      "left": null,
      "margin": null,
      "max_height": null,
      "max_width": null,
      "min_height": null,
      "min_width": null,
      "object_fit": null,
      "object_position": null,
      "order": null,
      "overflow": null,
      "overflow_x": null,
      "overflow_y": null,
      "padding": null,
      "right": null,
      "top": null,
      "visibility": null,
      "width": null
     }
    },
    "38a621a2e06046b6b8d0acc1567d5f7a": {
     "model_module": "@jupyter-widgets/controls",
     "model_name": "HTMLModel",
     "state": {
      "_dom_classes": [],
      "_model_module": "@jupyter-widgets/controls",
      "_model_module_version": "1.5.0",
      "_model_name": "HTMLModel",
      "_view_count": null,
      "_view_module": "@jupyter-widgets/controls",
      "_view_module_version": "1.5.0",
      "_view_name": "HTMLView",
      "description": "",
      "description_tooltip": null,
      "layout": "IPY_MODEL_3b44d49a51c84242910882e2c9df655f",
      "placeholder": "​",
      "style": "IPY_MODEL_7d3674421a0c429abbab955423e17d29",
      "value": " 1649664/? [05:06&lt;00:00, 5380.77it/s]"
     }
    },
    "3b44d49a51c84242910882e2c9df655f": {
     "model_module": "@jupyter-widgets/base",
     "model_name": "LayoutModel",
     "state": {
      "_model_module": "@jupyter-widgets/base",
      "_model_module_version": "1.2.0",
      "_model_name": "LayoutModel",
      "_view_count": null,
      "_view_module": "@jupyter-widgets/base",
      "_view_module_version": "1.2.0",
      "_view_name": "LayoutView",
      "align_content": null,
      "align_items": null,
      "align_self": null,
      "border": null,
      "bottom": null,
      "display": null,
      "flex": null,
      "flex_flow": null,
      "grid_area": null,
      "grid_auto_columns": null,
      "grid_auto_flow": null,
      "grid_auto_rows": null,
      "grid_column": null,
      "grid_gap": null,
      "grid_row": null,
      "grid_template_areas": null,
      "grid_template_columns": null,
      "grid_template_rows": null,
      "height": null,
      "justify_content": null,
      "justify_items": null,
      "left": null,
      "margin": null,
      "max_height": null,
      "max_width": null,
      "min_height": null,
      "min_width": null,
      "object_fit": null,
      "object_position": null,
      "order": null,
      "overflow": null,
      "overflow_x": null,
      "overflow_y": null,
      "padding": null,
      "right": null,
      "top": null,
      "visibility": null,
      "width": null
     }
    },
    "3eead54c513e46bdabff03b09d2907c5": {
     "model_module": "@jupyter-widgets/controls",
     "model_name": "HBoxModel",
     "state": {
      "_dom_classes": [],
      "_model_module": "@jupyter-widgets/controls",
      "_model_module_version": "1.5.0",
      "_model_name": "HBoxModel",
      "_view_count": null,
      "_view_module": "@jupyter-widgets/controls",
      "_view_module_version": "1.5.0",
      "_view_name": "HBoxView",
      "box_style": "",
      "children": [
       "IPY_MODEL_f638f059aa5046acb8afce4400188bc3",
       "IPY_MODEL_38a621a2e06046b6b8d0acc1567d5f7a"
      ],
      "layout": "IPY_MODEL_7835a20ebee64d0ea52f752e77f4b350"
     }
    },
    "41fad45023614f89a12c83e216de51fb": {
     "model_module": "@jupyter-widgets/base",
     "model_name": "LayoutModel",
     "state": {
      "_model_module": "@jupyter-widgets/base",
      "_model_module_version": "1.2.0",
      "_model_name": "LayoutModel",
      "_view_count": null,
      "_view_module": "@jupyter-widgets/base",
      "_view_module_version": "1.2.0",
      "_view_name": "LayoutView",
      "align_content": null,
      "align_items": null,
      "align_self": null,
      "border": null,
      "bottom": null,
      "display": null,
      "flex": null,
      "flex_flow": null,
      "grid_area": null,
      "grid_auto_columns": null,
      "grid_auto_flow": null,
      "grid_auto_rows": null,
      "grid_column": null,
      "grid_gap": null,
      "grid_row": null,
      "grid_template_areas": null,
      "grid_template_columns": null,
      "grid_template_rows": null,
      "height": null,
      "justify_content": null,
      "justify_items": null,
      "left": null,
      "margin": null,
      "max_height": null,
      "max_width": null,
      "min_height": null,
      "min_width": null,
      "object_fit": null,
      "object_position": null,
      "order": null,
      "overflow": null,
      "overflow_x": null,
      "overflow_y": null,
      "padding": null,
      "right": null,
      "top": null,
      "visibility": null,
      "width": null
     }
    },
    "58fa1e39bdb84739ba3a86f1b95487b3": {
     "model_module": "@jupyter-widgets/controls",
     "model_name": "ProgressStyleModel",
     "state": {
      "_model_module": "@jupyter-widgets/controls",
      "_model_module_version": "1.5.0",
      "_model_name": "ProgressStyleModel",
      "_view_count": null,
      "_view_module": "@jupyter-widgets/base",
      "_view_module_version": "1.2.0",
      "_view_name": "StyleView",
      "bar_color": null,
      "description_width": "initial"
     }
    },
    "61c14827f5484abfa5841941886e5ad9": {
     "model_module": "@jupyter-widgets/controls",
     "model_name": "DescriptionStyleModel",
     "state": {
      "_model_module": "@jupyter-widgets/controls",
      "_model_module_version": "1.5.0",
      "_model_name": "DescriptionStyleModel",
      "_view_count": null,
      "_view_module": "@jupyter-widgets/base",
      "_view_module_version": "1.2.0",
      "_view_name": "StyleView",
      "description_width": ""
     }
    },
    "63a99a807e13441b9c50135ce0ef2277": {
     "model_module": "@jupyter-widgets/base",
     "model_name": "LayoutModel",
     "state": {
      "_model_module": "@jupyter-widgets/base",
      "_model_module_version": "1.2.0",
      "_model_name": "LayoutModel",
      "_view_count": null,
      "_view_module": "@jupyter-widgets/base",
      "_view_module_version": "1.2.0",
      "_view_name": "LayoutView",
      "align_content": null,
      "align_items": null,
      "align_self": null,
      "border": null,
      "bottom": null,
      "display": null,
      "flex": null,
      "flex_flow": null,
      "grid_area": null,
      "grid_auto_columns": null,
      "grid_auto_flow": null,
      "grid_auto_rows": null,
      "grid_column": null,
      "grid_gap": null,
      "grid_row": null,
      "grid_template_areas": null,
      "grid_template_columns": null,
      "grid_template_rows": null,
      "height": null,
      "justify_content": null,
      "justify_items": null,
      "left": null,
      "margin": null,
      "max_height": null,
      "max_width": null,
      "min_height": null,
      "min_width": null,
      "object_fit": null,
      "object_position": null,
      "order": null,
      "overflow": null,
      "overflow_x": null,
      "overflow_y": null,
      "padding": null,
      "right": null,
      "top": null,
      "visibility": null,
      "width": null
     }
    },
    "6dd197a6d9c549caa17e3dde2a866055": {
     "model_module": "@jupyter-widgets/controls",
     "model_name": "HBoxModel",
     "state": {
      "_dom_classes": [],
      "_model_module": "@jupyter-widgets/controls",
      "_model_module_version": "1.5.0",
      "_model_name": "HBoxModel",
      "_view_count": null,
      "_view_module": "@jupyter-widgets/controls",
      "_view_module_version": "1.5.0",
      "_view_name": "HBoxView",
      "box_style": "",
      "children": [
       "IPY_MODEL_88186e36a9d9466b8c8b5dd7ccb57612",
       "IPY_MODEL_d2884d85c10f4e7899ca21cc085102b6"
      ],
      "layout": "IPY_MODEL_41fad45023614f89a12c83e216de51fb"
     }
    },
    "6f53e4bb4ca64d34bacf3d3aed6beea1": {
     "model_module": "@jupyter-widgets/controls",
     "model_name": "HBoxModel",
     "state": {
      "_dom_classes": [],
      "_model_module": "@jupyter-widgets/controls",
      "_model_module_version": "1.5.0",
      "_model_name": "HBoxModel",
      "_view_count": null,
      "_view_module": "@jupyter-widgets/controls",
      "_view_module_version": "1.5.0",
      "_view_name": "HBoxView",
      "box_style": "",
      "children": [
       "IPY_MODEL_809f141b4cb64c3fa2b131b63fa0016b",
       "IPY_MODEL_9dc1783d084d43728ca2daccd068c493"
      ],
      "layout": "IPY_MODEL_1e14b063615c44a0beaea7adfa85a9cf"
     }
    },
    "75b552078080435a8e77858e66ff9da6": {
     "model_module": "@jupyter-widgets/base",
     "model_name": "LayoutModel",
     "state": {
      "_model_module": "@jupyter-widgets/base",
      "_model_module_version": "1.2.0",
      "_model_name": "LayoutModel",
      "_view_count": null,
      "_view_module": "@jupyter-widgets/base",
      "_view_module_version": "1.2.0",
      "_view_name": "LayoutView",
      "align_content": null,
      "align_items": null,
      "align_self": null,
      "border": null,
      "bottom": null,
      "display": null,
      "flex": null,
      "flex_flow": null,
      "grid_area": null,
      "grid_auto_columns": null,
      "grid_auto_flow": null,
      "grid_auto_rows": null,
      "grid_column": null,
      "grid_gap": null,
      "grid_row": null,
      "grid_template_areas": null,
      "grid_template_columns": null,
      "grid_template_rows": null,
      "height": null,
      "justify_content": null,
      "justify_items": null,
      "left": null,
      "margin": null,
      "max_height": null,
      "max_width": null,
      "min_height": null,
      "min_width": null,
      "object_fit": null,
      "object_position": null,
      "order": null,
      "overflow": null,
      "overflow_x": null,
      "overflow_y": null,
      "padding": null,
      "right": null,
      "top": null,
      "visibility": null,
      "width": null
     }
    },
    "7835a20ebee64d0ea52f752e77f4b350": {
     "model_module": "@jupyter-widgets/base",
     "model_name": "LayoutModel",
     "state": {
      "_model_module": "@jupyter-widgets/base",
      "_model_module_version": "1.2.0",
      "_model_name": "LayoutModel",
      "_view_count": null,
      "_view_module": "@jupyter-widgets/base",
      "_view_module_version": "1.2.0",
      "_view_name": "LayoutView",
      "align_content": null,
      "align_items": null,
      "align_self": null,
      "border": null,
      "bottom": null,
      "display": null,
      "flex": null,
      "flex_flow": null,
      "grid_area": null,
      "grid_auto_columns": null,
      "grid_auto_flow": null,
      "grid_auto_rows": null,
      "grid_column": null,
      "grid_gap": null,
      "grid_row": null,
      "grid_template_areas": null,
      "grid_template_columns": null,
      "grid_template_rows": null,
      "height": null,
      "justify_content": null,
      "justify_items": null,
      "left": null,
      "margin": null,
      "max_height": null,
      "max_width": null,
      "min_height": null,
      "min_width": null,
      "object_fit": null,
      "object_position": null,
      "order": null,
      "overflow": null,
      "overflow_x": null,
      "overflow_y": null,
      "padding": null,
      "right": null,
      "top": null,
      "visibility": null,
      "width": null
     }
    },
    "7d3674421a0c429abbab955423e17d29": {
     "model_module": "@jupyter-widgets/controls",
     "model_name": "DescriptionStyleModel",
     "state": {
      "_model_module": "@jupyter-widgets/controls",
      "_model_module_version": "1.5.0",
      "_model_name": "DescriptionStyleModel",
      "_view_count": null,
      "_view_module": "@jupyter-widgets/base",
      "_view_module_version": "1.2.0",
      "_view_name": "StyleView",
      "description_width": ""
     }
    },
    "809f141b4cb64c3fa2b131b63fa0016b": {
     "model_module": "@jupyter-widgets/controls",
     "model_name": "FloatProgressModel",
     "state": {
      "_dom_classes": [],
      "_model_module": "@jupyter-widgets/controls",
      "_model_module_version": "1.5.0",
      "_model_name": "FloatProgressModel",
      "_view_count": null,
      "_view_module": "@jupyter-widgets/controls",
      "_view_module_version": "1.5.0",
      "_view_name": "ProgressView",
      "bar_style": "success",
      "description": "",
      "description_tooltip": null,
      "layout": "IPY_MODEL_889f53ee15dc4460b6da7ede93644b31",
      "max": 9912422,
      "min": 0,
      "orientation": "horizontal",
      "style": "IPY_MODEL_58fa1e39bdb84739ba3a86f1b95487b3",
      "value": 9912422
     }
    },
    "88186e36a9d9466b8c8b5dd7ccb57612": {
     "model_module": "@jupyter-widgets/controls",
     "model_name": "FloatProgressModel",
     "state": {
      "_dom_classes": [],
      "_model_module": "@jupyter-widgets/controls",
      "_model_module_version": "1.5.0",
      "_model_name": "FloatProgressModel",
      "_view_count": null,
      "_view_module": "@jupyter-widgets/controls",
      "_view_module_version": "1.5.0",
      "_view_name": "ProgressView",
      "bar_style": "success",
      "description": "",
      "description_tooltip": null,
      "layout": "IPY_MODEL_75b552078080435a8e77858e66ff9da6",
      "max": 4542,
      "min": 0,
      "orientation": "horizontal",
      "style": "IPY_MODEL_a535d365eb2f453fa6adf2c8a2eadd09",
      "value": 4542
     }
    },
    "889f53ee15dc4460b6da7ede93644b31": {
     "model_module": "@jupyter-widgets/base",
     "model_name": "LayoutModel",
     "state": {
      "_model_module": "@jupyter-widgets/base",
      "_model_module_version": "1.2.0",
      "_model_name": "LayoutModel",
      "_view_count": null,
      "_view_module": "@jupyter-widgets/base",
      "_view_module_version": "1.2.0",
      "_view_name": "LayoutView",
      "align_content": null,
      "align_items": null,
      "align_self": null,
      "border": null,
      "bottom": null,
      "display": null,
      "flex": null,
      "flex_flow": null,
      "grid_area": null,
      "grid_auto_columns": null,
      "grid_auto_flow": null,
      "grid_auto_rows": null,
      "grid_column": null,
      "grid_gap": null,
      "grid_row": null,
      "grid_template_areas": null,
      "grid_template_columns": null,
      "grid_template_rows": null,
      "height": null,
      "justify_content": null,
      "justify_items": null,
      "left": null,
      "margin": null,
      "max_height": null,
      "max_width": null,
      "min_height": null,
      "min_width": null,
      "object_fit": null,
      "object_position": null,
      "order": null,
      "overflow": null,
      "overflow_x": null,
      "overflow_y": null,
      "padding": null,
      "right": null,
      "top": null,
      "visibility": null,
      "width": null
     }
    },
    "88fe103d10c5484c9a61091ffc1d5edb": {
     "model_module": "@jupyter-widgets/controls",
     "model_name": "FloatProgressModel",
     "state": {
      "_dom_classes": [],
      "_model_module": "@jupyter-widgets/controls",
      "_model_module_version": "1.5.0",
      "_model_name": "FloatProgressModel",
      "_view_count": null,
      "_view_module": "@jupyter-widgets/controls",
      "_view_module_version": "1.5.0",
      "_view_name": "ProgressView",
      "bar_style": "success",
      "description": "",
      "description_tooltip": null,
      "layout": "IPY_MODEL_19936c618da3489d9e70e2a5387af53a",
      "max": 28881,
      "min": 0,
      "orientation": "horizontal",
      "style": "IPY_MODEL_9ad408c250fc4d4c88760c0fe7f03588",
      "value": 28881
     }
    },
    "9ad408c250fc4d4c88760c0fe7f03588": {
     "model_module": "@jupyter-widgets/controls",
     "model_name": "ProgressStyleModel",
     "state": {
      "_model_module": "@jupyter-widgets/controls",
      "_model_module_version": "1.5.0",
      "_model_name": "ProgressStyleModel",
      "_view_count": null,
      "_view_module": "@jupyter-widgets/base",
      "_view_module_version": "1.2.0",
      "_view_name": "StyleView",
      "bar_color": null,
      "description_width": "initial"
     }
    },
    "9dc1783d084d43728ca2daccd068c493": {
     "model_module": "@jupyter-widgets/controls",
     "model_name": "HTMLModel",
     "state": {
      "_dom_classes": [],
      "_model_module": "@jupyter-widgets/controls",
      "_model_module_version": "1.5.0",
      "_model_name": "HTMLModel",
      "_view_count": null,
      "_view_module": "@jupyter-widgets/controls",
      "_view_module_version": "1.5.0",
      "_view_name": "HTMLView",
      "description": "",
      "description_tooltip": null,
      "layout": "IPY_MODEL_63a99a807e13441b9c50135ce0ef2277",
      "placeholder": "​",
      "style": "IPY_MODEL_61c14827f5484abfa5841941886e5ad9",
      "value": " 9913344/? [05:09&lt;00:00, 32072.98it/s]"
     }
    },
    "a535d365eb2f453fa6adf2c8a2eadd09": {
     "model_module": "@jupyter-widgets/controls",
     "model_name": "ProgressStyleModel",
     "state": {
      "_model_module": "@jupyter-widgets/controls",
      "_model_module_version": "1.5.0",
      "_model_name": "ProgressStyleModel",
      "_view_count": null,
      "_view_module": "@jupyter-widgets/base",
      "_view_module_version": "1.2.0",
      "_view_name": "StyleView",
      "bar_color": null,
      "description_width": "initial"
     }
    },
    "b2b8821d86d74983adbd573fe94f0e3b": {
     "model_module": "@jupyter-widgets/controls",
     "model_name": "HBoxModel",
     "state": {
      "_dom_classes": [],
      "_model_module": "@jupyter-widgets/controls",
      "_model_module_version": "1.5.0",
      "_model_name": "HBoxModel",
      "_view_count": null,
      "_view_module": "@jupyter-widgets/controls",
      "_view_module_version": "1.5.0",
      "_view_name": "HBoxView",
      "box_style": "",
      "children": [
       "IPY_MODEL_88fe103d10c5484c9a61091ffc1d5edb",
       "IPY_MODEL_fb824854b03d48ddac15b8e4bba9c75d"
      ],
      "layout": "IPY_MODEL_cec6763965cb41bfacae286e1b890d0d"
     }
    },
    "cec6763965cb41bfacae286e1b890d0d": {
     "model_module": "@jupyter-widgets/base",
     "model_name": "LayoutModel",
     "state": {
      "_model_module": "@jupyter-widgets/base",
      "_model_module_version": "1.2.0",
      "_model_name": "LayoutModel",
      "_view_count": null,
      "_view_module": "@jupyter-widgets/base",
      "_view_module_version": "1.2.0",
      "_view_name": "LayoutView",
      "align_content": null,
      "align_items": null,
      "align_self": null,
      "border": null,
      "bottom": null,
      "display": null,
      "flex": null,
      "flex_flow": null,
      "grid_area": null,
      "grid_auto_columns": null,
      "grid_auto_flow": null,
      "grid_auto_rows": null,
      "grid_column": null,
      "grid_gap": null,
      "grid_row": null,
      "grid_template_areas": null,
      "grid_template_columns": null,
      "grid_template_rows": null,
      "height": null,
      "justify_content": null,
      "justify_items": null,
      "left": null,
      "margin": null,
      "max_height": null,
      "max_width": null,
      "min_height": null,
      "min_width": null,
      "object_fit": null,
      "object_position": null,
      "order": null,
      "overflow": null,
      "overflow_x": null,
      "overflow_y": null,
      "padding": null,
      "right": null,
      "top": null,
      "visibility": null,
      "width": null
     }
    },
    "d2884d85c10f4e7899ca21cc085102b6": {
     "model_module": "@jupyter-widgets/controls",
     "model_name": "HTMLModel",
     "state": {
      "_dom_classes": [],
      "_model_module": "@jupyter-widgets/controls",
      "_model_module_version": "1.5.0",
      "_model_name": "HTMLModel",
      "_view_count": null,
      "_view_module": "@jupyter-widgets/controls",
      "_view_module_version": "1.5.0",
      "_view_name": "HTMLView",
      "description": "",
      "description_tooltip": null,
      "layout": "IPY_MODEL_0083165da3db409991189368122fa4a8",
      "placeholder": "​",
      "style": "IPY_MODEL_1821b70fb26440f394ad6c0a95b7b866",
      "value": " 5120/? [00:12&lt;00:00, 411.67it/s]"
     }
    },
    "f638f059aa5046acb8afce4400188bc3": {
     "model_module": "@jupyter-widgets/controls",
     "model_name": "FloatProgressModel",
     "state": {
      "_dom_classes": [],
      "_model_module": "@jupyter-widgets/controls",
      "_model_module_version": "1.5.0",
      "_model_name": "FloatProgressModel",
      "_view_count": null,
      "_view_module": "@jupyter-widgets/controls",
      "_view_module_version": "1.5.0",
      "_view_name": "ProgressView",
      "bar_style": "success",
      "description": "",
      "description_tooltip": null,
      "layout": "IPY_MODEL_134592d47ab147618b90c95502fbac88",
      "max": 1648877,
      "min": 0,
      "orientation": "horizontal",
      "style": "IPY_MODEL_09f799ef60fc4013ba0310185abbd29e",
      "value": 1648877
     }
    },
    "fb824854b03d48ddac15b8e4bba9c75d": {
     "model_module": "@jupyter-widgets/controls",
     "model_name": "HTMLModel",
     "state": {
      "_dom_classes": [],
      "_model_module": "@jupyter-widgets/controls",
      "_model_module_version": "1.5.0",
      "_model_name": "HTMLModel",
      "_view_count": null,
      "_view_module": "@jupyter-widgets/controls",
      "_view_module_version": "1.5.0",
      "_view_name": "HTMLView",
      "description": "",
      "description_tooltip": null,
      "layout": "IPY_MODEL_2f8c5fd9b85c475e9bdcf1ce41419c7b",
      "placeholder": "​",
      "style": "IPY_MODEL_2a63b8dab052441bb1397d8fd2bdba07",
      "value": " 29696/? [00:00&lt;00:00, 37658.13it/s]"
     }
    }
   }
  }
 },
 "nbformat": 4,
 "nbformat_minor": 1
}
